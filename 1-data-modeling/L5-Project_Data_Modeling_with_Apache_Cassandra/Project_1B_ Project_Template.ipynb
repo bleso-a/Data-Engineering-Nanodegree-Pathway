{
 "cells": [
  {
   "cell_type": "markdown",
   "metadata": {
    "editable": true
   },
   "source": [
    "# Part I. ETL Pipeline for Pre-Processing the Files"
   ]
  },
  {
   "cell_type": "markdown",
   "metadata": {
    "editable": true
   },
   "source": [
    "#### Import Python packages "
   ]
  },
  {
   "cell_type": "code",
   "execution_count": 1,
   "metadata": {
    "editable": true
   },
   "outputs": [],
   "source": [
    "# Import Python packages \n",
    "import pandas as pd\n",
    "import cassandra\n",
    "import re\n",
    "import os\n",
    "import glob\n",
    "import numpy as np\n",
    "import json\n",
    "import csv\n",
    "from decimal import Decimal"
   ]
  },
  {
   "cell_type": "code",
   "execution_count": 2,
   "metadata": {
    "editable": true
   },
   "outputs": [
    {
     "name": "stdout",
     "output_type": "stream",
     "text": [
      "/home/workspace\n"
     ]
    }
   ],
   "source": [
    "# checking your current working directory\n",
    "print(os.getcwd())\n",
    "\n",
    "# Get your current folder and subfolder event data\n",
    "filepath = os.getcwd() + '/event_data'\n",
    "\n",
    "# Create a for loop to create a list of files and collect each filepath\n",
    "for root, dirs, files in os.walk(filepath):\n",
    "    \n",
    "# join the file path and roots with the subdirectories using glob\n",
    "    file_path_list = glob.glob(os.path.join(root,'*'))\n",
    "    #print(file_path_list)"
   ]
  },
  {
   "cell_type": "code",
   "execution_count": 3,
   "metadata": {
    "editable": true
   },
   "outputs": [
    {
     "name": "stdout",
     "output_type": "stream",
     "text": [
      "8056\n"
     ]
    }
   ],
   "source": [
    "# initiating an empty list of rows that will be generated from each file\n",
    "full_data_rows_list = [] \n",
    "    \n",
    "# for every filepath in the file path list \n",
    "for f in file_path_list:\n",
    "\n",
    "# reading csv file \n",
    "    with open(f, 'r', encoding = 'utf8', newline='') as csvfile: \n",
    "        # creating a csv reader object \n",
    "        csvreader = csv.reader(csvfile) \n",
    "        next(csvreader)\n",
    "        \n",
    " # extracting each data row one by one and append it        \n",
    "        for line in csvreader:\n",
    "            #print(line)\n",
    "            full_data_rows_list.append(line) \n",
    "\n",
    "#print the full length of the rows\n",
    "print(len(full_data_rows_list))\n",
    "\n",
    "\n",
    "# creating a smaller event data csv file called event_datafile_full csv that will be used to insert data into the \\\n",
    "# Apache Cassandra tables\n",
    "csv.register_dialect('myDialect', quoting=csv.QUOTE_ALL, skipinitialspace=True)\n",
    "\n",
    "with open('event_datafile_new.csv', 'w', encoding = 'utf8', newline='') as f:\n",
    "    writer = csv.writer(f, dialect='myDialect')\n",
    "    writer.writerow(['artist','firstName','gender','itemInSession','lastName','length',\\\n",
    "                'level','location','sessionId','song','userId'])\n",
    "    for row in full_data_rows_list:\n",
    "        if (row[0] == ''):\n",
    "            continue\n",
    "        writer.writerow((row[0], row[2], row[3], row[4], row[5], row[6], row[7], row[8], row[12], row[13], row[16]))\n"
   ]
  },
  {
   "cell_type": "code",
   "execution_count": 4,
   "metadata": {
    "editable": true
   },
   "outputs": [
    {
     "name": "stdout",
     "output_type": "stream",
     "text": [
      "6821\n"
     ]
    }
   ],
   "source": [
    "# check the number of rows in your csv file\n",
    "with open('event_datafile_new.csv', 'r', encoding = 'utf8') as f:\n",
    "    print(sum(1 for line in f))"
   ]
  },
  {
   "cell_type": "code",
   "execution_count": 5,
   "metadata": {
    "editable": true
   },
   "outputs": [],
   "source": [
    "# This should make a connection to a Cassandra instance your local machine \n",
    "# (127.0.0.1)\n",
    "\n",
    "from cassandra.cluster import Cluster\n",
    "cluster = Cluster()\n",
    "\n",
    "# To establish connection and begin executing queries, need a session\n",
    "session = cluster.connect()"
   ]
  },
  {
   "cell_type": "code",
   "execution_count": 6,
   "metadata": {
    "editable": true
   },
   "outputs": [],
   "source": [
    "try:\n",
    "    session.execute(\"\"\"\n",
    "        CREATE KEYSPACE IF NOT EXISTS sparkify\n",
    "        WITH REPLICATION = \n",
    "        { 'class': 'SimpleStrategy', 'replication_factor': 1}\"\"\"\n",
    ")\n",
    "except Exception as e:\n",
    "    print(e)"
   ]
  },
  {
   "cell_type": "code",
   "execution_count": 7,
   "metadata": {
    "editable": true
   },
   "outputs": [],
   "source": [
    "#setting the keyspace to sparkify\n",
    "try:\n",
    "    session.set_keyspace('sparkify')\n",
    "except Exception as e:\n",
    "    print(e)\n"
   ]
  },
  {
   "cell_type": "code",
   "execution_count": 8,
   "metadata": {
    "editable": true
   },
   "outputs": [],
   "source": [
    "#writing utility functions to execute queries to ease the way code flows\n",
    "def execute_query(query):\n",
    "    try:\n",
    "        return session.execute(query)\n",
    "    except Exception as e:\n",
    "        print(e)\n",
    "        \n",
    "def execute_query_with_params(query, params):\n",
    "    try:\n",
    "        return session.execute(query, params)\n",
    "    except Exception as e:\n",
    "        print(e)\n",
    "    \n",
    "def process_csv_file(file, func):\n",
    "    with open(file, encoding = 'utf-8') as f:\n",
    "        csvreader = csv.reader(f)\n",
    "        next(csvreader)\n",
    "        for line in csvreader:\n",
    "            func(line)"
   ]
  },
  {
   "cell_type": "code",
   "execution_count": 9,
   "metadata": {
    "editable": true
   },
   "outputs": [
    {
     "data": {
      "text/plain": [
       "<cassandra.cluster.ResultSet at 0x7f3ac8e1ef60>"
      ]
     },
     "execution_count": 9,
     "metadata": {},
     "output_type": "execute_result"
    }
   ],
   "source": [
    "#creating the session_library table\n",
    "execute_query(\"\"\"\n",
    "    CREATE TABLE IF NOT EXISTS session_library(\n",
    "        session_id int,\n",
    "        item_in_session int,\n",
    "        artist text,\n",
    "        song text,\n",
    "        song_length decimal,\n",
    "        PRIMARY KEY (session_id, item_in_session)\n",
    "    )\n",
    "\"\"\")\n"
   ]
  },
  {
   "cell_type": "code",
   "execution_count": 10,
   "metadata": {
    "editable": true
   },
   "outputs": [],
   "source": [
    "#we create a helper function to help with changing the values in session id to int,\n",
    "#we also want item in session to be an int\n",
    "#it is also necessary that the song_length should be a decimal\n",
    "def insert_to_session_library(line):\n",
    "    query = \"INSERT INTO session_library (session_id, item_in_session, artist, song, song_length)\"\n",
    "    query = query + ' VALUES(%s, %s, %s, %s, %s)'\n",
    "    queryParameters = (int(line[8]), int(line[3]), line[0], line[9], Decimal(line[5]))\n",
    "    \n",
    "    return execute_query_with_params(query, queryParameters)\n",
    "\n",
    "process_csv_file('event_datafile_new.csv', func=insert_to_session_library)"
   ]
  },
  {
   "cell_type": "code",
   "execution_count": 11,
   "metadata": {
    "editable": true
   },
   "outputs": [
    {
     "name": "stdout",
     "output_type": "stream",
     "text": [
      "Faithless Music Matters (Mark Knight Dub) 495.3073\n"
     ]
    }
   ],
   "source": [
    "rows = execute_query('SELECT artist, song, song_length FROM session_library WHERE session_id = 338 AND item_in_session = 4')\n",
    "for row in rows:\n",
    "    print(row.artist, row.song, row.song_length)     "
   ]
  },
  {
   "cell_type": "code",
   "execution_count": 12,
   "metadata": {
    "editable": true
   },
   "outputs": [
    {
     "data": {
      "text/plain": [
       "<cassandra.cluster.ResultSet at 0x7f3ac8e1e048>"
      ]
     },
     "execution_count": 12,
     "metadata": {},
     "output_type": "execute_result"
    }
   ],
   "source": [
    "#setting up the table\n",
    "execute_query(\"\"\"\n",
    "    CREATE TABLE IF NOT EXISTS user_library (\n",
    "        user_id int, \n",
    "        session_id int,\n",
    "        item_in_session int,\n",
    "        artist text,\n",
    "        song text,\n",
    "        first_name text,\n",
    "        last_name text,\n",
    "        PRIMARY KEY ((user_id, session_id), item_in_session)\n",
    "    )\n",
    "\"\"\")"
   ]
  },
  {
   "cell_type": "code",
   "execution_count": 13,
   "metadata": {
    "editable": true
   },
   "outputs": [],
   "source": [
    "#setting up the values in the table and getting it ready\n",
    "def insert_to_user_library(line):\n",
    "    query = \"INSERT INTO user_library (user_id, session_id, item_in_session, artist, song, first_name, last_name)\"\n",
    "    query = query + \"VALUES (%s, %s, %s, %s, %s, %s, %s)\"\n",
    "    queryParameters = (int(line[10]), int(line[8]), int(line[3]), line[0], line[9], line[1], line[4])\n",
    "    \n",
    "    return execute_query_with_params(query, queryParameters)\n",
    "\n",
    "process_csv_file('event_datafile_new.csv', func=insert_to_user_library)"
   ]
  },
  {
   "cell_type": "code",
   "execution_count": 14,
   "metadata": {
    "editable": true
   },
   "outputs": [
    {
     "name": "stdout",
     "output_type": "stream",
     "text": [
      "Down To The Bone Keep On Keepin' On Sylvie Cruz\n",
      "Three Drives Greece 2000 Sylvie Cruz\n",
      "Sebastien Tellier Kilometer Sylvie Cruz\n",
      "Lonnie Gordon Catch You Baby (Steve Pitron & Max Sanna Radio Edit) Sylvie Cruz\n"
     ]
    }
   ],
   "source": [
    "rows = execute_query(\"SELECT artist, song, first_name, last_name FROM user_library WHERE user_id = 10 AND session_id = 182 ORDER BY item_in_session\")\n",
    "for row in rows:\n",
    "    print(row.artist, row.song, row.first_name, row.last_name)"
   ]
  },
  {
   "cell_type": "code",
   "execution_count": 15,
   "metadata": {
    "editable": true
   },
   "outputs": [
    {
     "data": {
      "text/plain": [
       "<cassandra.cluster.ResultSet at 0x7f3ac8e05fd0>"
      ]
     },
     "execution_count": 15,
     "metadata": {},
     "output_type": "execute_result"
    }
   ],
   "source": [
    "#create the table\n",
    "execute_query(\"\"\"\n",
    "    CREATE TABLE IF NOT EXISTS user_song_library (\n",
    "        user_id int, \n",
    "        song text,\n",
    "        artist text,\n",
    "        first_name text,\n",
    "        last_name text,\n",
    "        PRIMARY KEY (song, user_id)\n",
    "    )\n",
    "\"\"\")\n",
    "\n",
    "                    "
   ]
  },
  {
   "cell_type": "code",
   "execution_count": 16,
   "metadata": {
    "editable": true
   },
   "outputs": [],
   "source": [
    "#write the helper function\n",
    "def insert_to_user_song_library(line):\n",
    "    query = \"INSERT INTO user_song_library (user_id, song, artist, first_name, last_name)\"\n",
    "    query = query + \"VALUES (%s, %s, %s, %s, %s)\"\n",
    "    queryParameters = (int(line[10]), line[9], line[0], line[1], line[4])\n",
    "    \n",
    "    return execute_query_with_params(query, queryParameters)\n",
    "\n",
    "process_csv_file('event_datafile_new.csv', func=insert_to_user_song_library)"
   ]
  },
  {
   "cell_type": "code",
   "execution_count": 17,
   "metadata": {
    "editable": true
   },
   "outputs": [
    {
     "name": "stdout",
     "output_type": "stream",
     "text": [
      "Jacqueline Lynch\n",
      "Tegan Levine\n",
      "Sara Johnson\n"
     ]
    }
   ],
   "source": [
    "#execuing the query\n",
    "rows = execute_query(\"SELECT first_name, last_name FROM user_song_library WHERE song = 'All Hands Against His Own'\")\n",
    "for row in rows:\n",
    "    print(row.first_name, row.last_name)\n",
    "                    "
   ]
  },
  {
   "cell_type": "code",
   "execution_count": 18,
   "metadata": {
    "editable": true
   },
   "outputs": [
    {
     "data": {
      "text/plain": [
       "<cassandra.cluster.ResultSet at 0x7f3a9dce15f8>"
      ]
     },
     "execution_count": 18,
     "metadata": {},
     "output_type": "execute_result"
    }
   ],
   "source": [
    "execute_query(\"drop table user_library\")\n",
    "execute_query(\"drop table session_library\")\n",
    "execute_query(\"drop table user_song_library\")"
   ]
  },
  {
   "cell_type": "code",
   "execution_count": 19,
   "metadata": {
    "editable": true
   },
   "outputs": [],
   "source": [
    "session.shutdown()\n",
    "cluster.shutdown()"
   ]
  },
  {
   "cell_type": "code",
   "execution_count": null,
   "metadata": {
    "editable": true
   },
   "outputs": [],
   "source": []
  },
  {
   "cell_type": "code",
   "execution_count": null,
   "metadata": {
    "editable": true
   },
   "outputs": [],
   "source": []
  }
 ],
 "metadata": {
  "kernelspec": {
   "display_name": "Python 3",
   "language": "python",
   "name": "python3"
  },
  "language_info": {
   "codemirror_mode": {
    "name": "ipython",
    "version": 3
   },
   "file_extension": ".py",
   "mimetype": "text/x-python",
   "name": "python",
   "nbconvert_exporter": "python",
   "pygments_lexer": "ipython3",
   "version": "3.6.3"
  }
 },
 "nbformat": 4,
 "nbformat_minor": 4
}
