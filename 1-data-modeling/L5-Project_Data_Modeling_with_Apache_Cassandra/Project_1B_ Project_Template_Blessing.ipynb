{
 "cells": [
  {
   "cell_type": "markdown",
   "metadata": {
    "editable": true
   },
   "source": [
    "# Part I. ETL Pipeline for Pre-Processing the Files"
   ]
  },
  {
   "cell_type": "markdown",
   "metadata": {
    "editable": true
   },
   "source": [
    "## PLEASE RUN THE FOLLOWING CODE FOR PRE-PROCESSING THE FILES"
   ]
  },
  {
   "cell_type": "markdown",
   "metadata": {
    "editable": true
   },
   "source": [
    "#### Import Python packages "
   ]
  },
  {
   "cell_type": "code",
   "execution_count": 21,
   "metadata": {
    "editable": true
   },
   "outputs": [],
   "source": [
    "# Import Python packages \n",
    "import pandas as pd\n",
    "import cassandra\n",
    "import re\n",
    "import os\n",
    "import glob\n",
    "import numpy as np\n",
    "import json\n",
    "import csv\n",
    "from prettytable import PrettyTable"
   ]
  },
  {
   "cell_type": "markdown",
   "metadata": {
    "editable": true
   },
   "source": [
    "#### Creating list of filepaths to process original event csv data files"
   ]
  },
  {
   "cell_type": "code",
   "execution_count": 22,
   "metadata": {
    "editable": true
   },
   "outputs": [
    {
     "name": "stdout",
     "output_type": "stream",
     "text": [
      "/home/workspace\n"
     ]
    }
   ],
   "source": [
    "# checking your current working directory\n",
    "print(os.getcwd())\n",
    "\n",
    "# Get your current folder and subfolder event data\n",
    "filepath = os.getcwd() + '/event_data'\n",
    "\n",
    "# Create a for loop to create a list of files and collect each filepath\n",
    "for root, dirs, files in os.walk(filepath):\n",
    "    \n",
    "# join the file path and roots with the subdirectories using glob\n",
    "    file_path_list = glob.glob(os.path.join(root,'*'))\n",
    "    #print(file_path_list)"
   ]
  },
  {
   "cell_type": "markdown",
   "metadata": {
    "editable": true
   },
   "source": [
    "#### Processing the files to create the data file csv that will be used for Apache Casssandra tables"
   ]
  },
  {
   "cell_type": "code",
   "execution_count": 23,
   "metadata": {
    "editable": true
   },
   "outputs": [],
   "source": [
    "# initiating an empty list of rows that will be generated from each file\n",
    "full_data_rows_list = [] \n",
    "    \n",
    "# for every filepath in the file path list \n",
    "for f in file_path_list:\n",
    "\n",
    "# reading csv file \n",
    "    with open(f, 'r', encoding = 'utf8', newline='') as csvfile: \n",
    "        # creating a csv reader object \n",
    "        csvreader = csv.reader(csvfile) \n",
    "        next(csvreader)\n",
    "        \n",
    " # extracting each data row one by one and append it        \n",
    "        for line in csvreader:\n",
    "            #print(line)\n",
    "            full_data_rows_list.append(line) \n",
    "            \n",
    "# uncomment the code below if you would like to get total number of rows \n",
    "#print(len(full_data_rows_list))\n",
    "# uncomment the code below if you would like to check to see what the list of event data rows will look like\n",
    "#print(full_data_rows_list)\n",
    "\n",
    "# creating a smaller event data csv file called event_datafile_full csv that will be used to insert data into the \\\n",
    "# Apache Cassandra tables\n",
    "csv.register_dialect('myDialect', quoting=csv.QUOTE_ALL, skipinitialspace=True)\n",
    "\n",
    "with open('event_datafile_new.csv', 'w', encoding = 'utf8', newline='') as f:\n",
    "    writer = csv.writer(f, dialect='myDialect')\n",
    "    writer.writerow(['artist','firstName','gender','itemInSession','lastName','length',\\\n",
    "                'level','location','sessionId','song','userId'])\n",
    "    for row in full_data_rows_list:\n",
    "        if (row[0] == ''):\n",
    "            continue\n",
    "        writer.writerow((row[0], row[2], row[3], row[4], row[5], row[6], row[7], row[8], row[12], row[13], row[16]))\n"
   ]
  },
  {
   "cell_type": "code",
   "execution_count": 24,
   "metadata": {
    "editable": true
   },
   "outputs": [
    {
     "name": "stdout",
     "output_type": "stream",
     "text": [
      "6821\n"
     ]
    }
   ],
   "source": [
    "# check the number of rows in your csv file\n",
    "with open('event_datafile_new.csv', 'r', encoding = 'utf8') as f:\n",
    "    print(sum(1 for line in f))"
   ]
  },
  {
   "cell_type": "code",
   "execution_count": 25,
   "metadata": {
    "editable": true
   },
   "outputs": [],
   "source": [
    "# This should make a connection to a Cassandra instance your local machine \n",
    "# (127.0.0.1)\n",
    "\n",
    "from cassandra.cluster import Cluster\n",
    "cluster = Cluster()\n",
    "\n",
    "# To establish connection and begin executing queries, need a session\n",
    "session = cluster.connect()"
   ]
  },
  {
   "cell_type": "markdown",
   "metadata": {
    "editable": true
   },
   "source": [
    "#### Create Keyspace"
   ]
  },
  {
   "cell_type": "code",
   "execution_count": 26,
   "metadata": {
    "editable": true
   },
   "outputs": [],
   "source": [
    "#Code below creates a keyspace\n",
    "try:\n",
    "    session.execute(\"\"\"\n",
    "    CREATE KEYSPACE IF NOT EXISTS sparkify\n",
    "    WITH REPLICATION = \n",
    "    { 'class' : 'SimpleStrategy', 'replication_factor' : 1}\n",
    "    \"\"\"\n",
    "    \n",
    "    )\n",
    "except Exception as e:\n",
    "    print(e)\n"
   ]
  },
  {
   "cell_type": "markdown",
   "metadata": {
    "editable": true
   },
   "source": [
    "#### Set Keyspace and Write query functions"
   ]
  },
  {
   "cell_type": "code",
   "execution_count": 27,
   "metadata": {
    "editable": true
   },
   "outputs": [],
   "source": [
    "try:\n",
    "    session.set_keyspace('sparkify')\n",
    "except Exception as e:\n",
    "    print(e)\n",
    "    \n",
    "def execute_query(query):\n",
    "    \"\"\"\n",
    "    This function execute query\n",
    "    Input:\n",
    "    :param query: the query\n",
    "    \"\"\"\n",
    "    try:\n",
    "        return session.execute(query)\n",
    "    except Exception as e:\n",
    "        print(e)"
   ]
  },
  {
   "cell_type": "code",
   "execution_count": 28,
   "metadata": {
    "editable": true
   },
   "outputs": [
    {
     "data": {
      "text/plain": [
       "<cassandra.cluster.ResultSet at 0x7f2b13c9d748>"
      ]
     },
     "execution_count": 28,
     "metadata": {},
     "output_type": "execute_result"
    }
   ],
   "source": [
    "#Table structure - Identifier - session_id, item_in_session. Info - artist, song, song_length\n",
    "execute_query(\"\"\"\n",
    "    CREATE TABLE IF NOT EXISTS session_library(\n",
    "       session_id int, \n",
    "       item_in_session int, \n",
    "       artist text,\n",
    "       song text, \n",
    "       song_length decimal, \n",
    "       PRIMARY KEY (session_id, item_in_session)\n",
    "    )\n",
    "\"\"\"\n",
    ")\n",
    "\n",
    "                    "
   ]
  },
  {
   "cell_type": "code",
   "execution_count": 29,
   "metadata": {
    "editable": true
   },
   "outputs": [],
   "source": [
    "file = 'event_datafile_new.csv'\n",
    "\n",
    "with open(file, encoding = 'utf8') as f:\n",
    "    csvreader = csv.reader(f)\n",
    "    next(csvreader)\n",
    "    for line in csvreader:\n",
    "        query = \"INSERT INTO session_library (session_id, item_in_session, artist, song, song_length)\"\n",
    "        query = query + \"VALUES (%s, %s, %s, %s, %s)\"\n",
    "        session.execute(query, (int(line[8]), int(line[3]), line[0], line[9], float(line[5])))"
   ]
  },
  {
   "cell_type": "markdown",
   "metadata": {
    "editable": true
   },
   "source": [
    "#### Do a SELECT to verify that the data have been inserted into each table"
   ]
  },
  {
   "cell_type": "code",
   "execution_count": 30,
   "metadata": {
    "editable": true,
    "scrolled": true
   },
   "outputs": [
    {
     "name": "stdout",
     "output_type": "stream",
     "text": [
      "+-----------+---------------------------------+-------------+\n",
      "|   Artist  |               Song              | Song Length |\n",
      "+-----------+---------------------------------+-------------+\n",
      "| Faithless | Music Matters (Mark Knight Dub) |   495.3073  |\n",
      "+-----------+---------------------------------+-------------+\n"
     ]
    }
   ],
   "source": [
    "#Verifying that the data has been inserted into each table\n",
    "#By running a query that answers session_id = 338, item_in_session = 4\n",
    "#The above return artist, song, length from the session_library\n",
    "\n",
    "query = \"\"\"SELECT artist, song, song_length FROM session_library WHERE session_id = 338 AND item_in_session = 4\"\"\"\n",
    "\n",
    "try:\n",
    "    songs = session.execute(query)\n",
    "except Exception as e:\n",
    "    print (e)\n",
    "\n",
    "table = PrettyTable(['Artist', 'Song', 'Song Length'])\n",
    "for row in songs:\n",
    "    table.add_row([row.artist, row.song, row.song_length])\n",
    "print(table)"
   ]
  },
  {
   "cell_type": "markdown",
   "metadata": {
    "editable": true
   },
   "source": [
    "## Query 2 section"
   ]
  },
  {
   "cell_type": "code",
   "execution_count": 31,
   "metadata": {
    "editable": true
   },
   "outputs": [
    {
     "data": {
      "text/plain": [
       "<cassandra.cluster.ResultSet at 0x7f2b13c9cc18>"
      ]
     },
     "execution_count": 31,
     "metadata": {},
     "output_type": "execute_result"
    }
   ],
   "source": [
    "#Table Structure - Identifier - user-id, session_id, ORDER -item_in_session, Information - artist, song, first_name, last_name\n",
    "\n",
    "execute_query(\"\"\"\n",
    "  CREATE TABLE IF NOT EXISTS artist_details (\n",
    "    user_id int,\n",
    "    session_id int, \n",
    "    item_in_session int,\n",
    "    artist text,\n",
    "    song text,\n",
    "    first_name text,\n",
    "    last_name text, \n",
    "    PRIMARY KEY ((user_id, session_id), item_in_session)\n",
    "  \n",
    "  )\n",
    "\"\"\"\n",
    ")\n",
    "\n",
    "\n",
    "                    "
   ]
  },
  {
   "cell_type": "code",
   "execution_count": 32,
   "metadata": {
    "editable": true
   },
   "outputs": [],
   "source": [
    "#At this point Insert Data\n",
    "file = 'event_datafile_new.csv'\n",
    "\n",
    "with open(file, encoding = 'utf8') as f:\n",
    "    csvreader = csv.reader(f)\n",
    "    next(csvreader)\n",
    "    for line in csvreader:\n",
    "        query = \"INSERT INTO artist_details (user_id, session_id, item_in_session, artist, song, first_name, last_name)\"\n",
    "        query = query + \"VALUES (%s, %s, %s, %s, %s, %s, %s)\"\n",
    "        session.execute(query, (int(line[10]), int(line[8]), int(line[3]), line[0], line[9], line[1], line[4]))"
   ]
  },
  {
   "cell_type": "code",
   "execution_count": 33,
   "metadata": {
    "editable": true
   },
   "outputs": [
    {
     "name": "stdout",
     "output_type": "stream",
     "text": [
      "+-----------------+-------------------+------------------------------------------------------+------------+-----------+\n",
      "| Item in Session |       Artist      |                         Song                         | First Name | Last Name |\n",
      "+-----------------+-------------------+------------------------------------------------------+------------+-----------+\n",
      "|        0        |  Down To The Bone |                  Keep On Keepin' On                  |   Sylvie   |    Cruz   |\n",
      "|        1        |    Three Drives   |                     Greece 2000                      |   Sylvie   |    Cruz   |\n",
      "|        2        | Sebastien Tellier |                      Kilometer                       |   Sylvie   |    Cruz   |\n",
      "|        3        |   Lonnie Gordon   | Catch You Baby (Steve Pitron & Max Sanna Radio Edit) |   Sylvie   |    Cruz   |\n",
      "+-----------------+-------------------+------------------------------------------------------+------------+-----------+\n"
     ]
    }
   ],
   "source": [
    "## Query name of artist, song(sorted by item_in_session) Userid = 10, sessionid = 182\n",
    "query = \"\"\"SELECT item_in_session, artist, song, first_name, last_name FROM artist_details WHERE user_id = 10 AND session_id = 182    \n",
    "\"\"\"\n",
    "try:\n",
    "    artists = session.execute(query)\n",
    "except Exception as e:\n",
    "    print (e)\n",
    "\n",
    "table2 = PrettyTable(['Item in Session', 'Artist', 'Song', 'First Name', 'Last Name' ])\n",
    "\n",
    "for row in artists:\n",
    "    table2.add_row([row.item_in_session, row.artist, row.song, row.first_name, row.last_name])\n",
    "print(table2)"
   ]
  },
  {
   "cell_type": "markdown",
   "metadata": {
    "editable": true
   },
   "source": [
    "## Query 3 Section  "
   ]
  },
  {
   "cell_type": "code",
   "execution_count": 34,
   "metadata": {
    "editable": true
   },
   "outputs": [
    {
     "data": {
      "text/plain": [
       "<cassandra.cluster.ResultSet at 0x7f2b13c9d320>"
      ]
     },
     "execution_count": 34,
     "metadata": {},
     "output_type": "execute_result"
    }
   ],
   "source": [
    "execute_query(\"\"\"\n",
    " CREATE TABLE IF NOT EXISTS user_details(\n",
    " user_id int, \n",
    " song text, \n",
    " artist text,\n",
    " first_name text, \n",
    " last_name text,\n",
    " PRIMARY KEY (song, user_id)\n",
    " )  \n",
    "\"\"\"\n",
    ")"
   ]
  },
  {
   "cell_type": "code",
   "execution_count": 35,
   "metadata": {
    "editable": true
   },
   "outputs": [],
   "source": [
    "# Insert Data for Query 3\n",
    "file = 'event_datafile_new.csv'\n",
    "\n",
    "with open(file, encoding = 'utf8') as f:\n",
    "    csvreader = csv.reader(f)\n",
    "    next(csvreader)\n",
    "    for line in csvreader:\n",
    "        query = \"INSERT into user_details (user_id, song, artist, first_name, last_name)\"\n",
    "        query = query + \"VALUES (%s, %s, %s, %s, %s)\"\n",
    "        session.execute(query, (int(line[10]), line[9], line[0], line[1], line[4]))"
   ]
  },
  {
   "cell_type": "markdown",
   "metadata": {
    "editable": true
   },
   "source": [
    "## Query Test\n",
    "Query for first_name, last_name, song, artist from the table. Given Song is 'All Hands Against His Own'"
   ]
  },
  {
   "cell_type": "code",
   "execution_count": 36,
   "metadata": {
    "editable": true
   },
   "outputs": [
    {
     "name": "stdout",
     "output_type": "stream",
     "text": [
      "+------------+-----------+---------------------------+----------------+\n",
      "| First Name | Last Name |            Song           |     Artist     |\n",
      "+------------+-----------+---------------------------+----------------+\n",
      "| Jacqueline |   Lynch   | All Hands Against His Own | The Black Keys |\n",
      "|   Tegan    |   Levine  | All Hands Against His Own | The Black Keys |\n",
      "|    Sara    |  Johnson  | All Hands Against His Own | The Black Keys |\n",
      "+------------+-----------+---------------------------+----------------+\n"
     ]
    }
   ],
   "source": [
    "query = \"\"\" SELECT first_name, last_name, song, artist FROM user_details WHERE song = 'All Hands Against His Own'\"\"\"\n",
    "\n",
    "try:\n",
    "    users = session.execute(query)\n",
    "except Exception as e:\n",
    "    print (e)\n",
    "\n",
    "table3 = PrettyTable(['First Name', 'Last Name', 'Song', 'Artist'])\n",
    "\n",
    "for row in users:\n",
    "    table3.add_row([row.first_name, row.last_name, row.song, row.artist])\n",
    "print(table3)"
   ]
  },
  {
   "cell_type": "markdown",
   "metadata": {
    "editable": true
   },
   "source": [
    "### Drop the tables before closing out the sessions"
   ]
  },
  {
   "cell_type": "code",
   "execution_count": 37,
   "metadata": {
    "editable": true
   },
   "outputs": [
    {
     "data": {
      "text/plain": [
       "<cassandra.cluster.ResultSet at 0x7f2b39a2d128>"
      ]
     },
     "execution_count": 37,
     "metadata": {},
     "output_type": "execute_result"
    }
   ],
   "source": [
    "execute_query(\"DROP TABLE session_library\")\n",
    "execute_query(\"DROP TABLE artist_details\")\n",
    "execute_query(\"DROP TABLE user_details\")"
   ]
  },
  {
   "cell_type": "markdown",
   "metadata": {
    "editable": true
   },
   "source": [
    "### Close the session and cluster connection¶"
   ]
  },
  {
   "cell_type": "code",
   "execution_count": 38,
   "metadata": {
    "editable": true
   },
   "outputs": [],
   "source": [
    "session.shutdown()\n",
    "cluster.shutdown()"
   ]
  },
  {
   "cell_type": "code",
   "execution_count": null,
   "metadata": {
    "editable": true
   },
   "outputs": [],
   "source": []
  },
  {
   "cell_type": "code",
   "execution_count": null,
   "metadata": {
    "editable": true
   },
   "outputs": [],
   "source": []
  }
 ],
 "metadata": {
  "kernelspec": {
   "display_name": "Python 3",
   "language": "python",
   "name": "python3"
  },
  "language_info": {
   "codemirror_mode": {
    "name": "ipython",
    "version": 3
   },
   "file_extension": ".py",
   "mimetype": "text/x-python",
   "name": "python",
   "nbconvert_exporter": "python",
   "pygments_lexer": "ipython3",
   "version": "3.6.3"
  }
 },
 "nbformat": 4,
 "nbformat_minor": 4
}
